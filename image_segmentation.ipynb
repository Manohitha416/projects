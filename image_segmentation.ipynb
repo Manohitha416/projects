{
 "cells": [
  {
   "cell_type": "markdown",
   "id": "dff15321-e010-4b37-9d1a-8df3cf6bbd69",
   "metadata": {},
   "source": [
    "# Libraries"
   ]
  },
  {
   "cell_type": "code",
   "execution_count": 15,
   "id": "eac5374f-8fac-49eb-a7d0-0e84f81ad6ea",
   "metadata": {},
   "outputs": [],
   "source": [
    "from rembg import remove\n",
    "import requests\n",
    "from PIL import Image, ImageFilter, ImageEnhance\n",
    "from io import BytesIO\n",
    "import os"
   ]
  },
  {
   "cell_type": "markdown",
   "id": "b4c91a20-f8d3-41db-837b-7de4b695de96",
   "metadata": {},
   "source": [
    "# Creating directories for original and masked images"
   ]
  },
  {
   "cell_type": "code",
   "execution_count": 16,
   "id": "c8636ab3-c415-4b6b-b0f0-7d5a39cba51d",
   "metadata": {},
   "outputs": [],
   "source": [
    "os.makedirs('original', exist_ok=True)\n",
    "os.makedirs('masked', exist_ok=True)"
   ]
  },
  {
   "cell_type": "markdown",
   "id": "d4e8d8cb-766a-41e9-be38-27d4fd2d680a",
   "metadata": {},
   "source": [
    "# Image URLs"
   ]
  },
  {
   "cell_type": "code",
   "execution_count": 17,
   "id": "50363c91-d77e-4dae-99bd-ce3d65e0add1",
   "metadata": {},
   "outputs": [],
   "source": [
    "##img_url = 'https://p.imgci.com/db/PICTURES/CMS/357400/357408.jpg'\n",
    "img_url = 'https://images.alphacoders.com/126/1267661.jpg'\n",
    "background_url = 'https://sportsfields.info/wp-content/uploads/2023/04/Real-Madrid.jpg'"
   ]
  },
  {
   "cell_type": "code",
   "execution_count": 18,
   "id": "07b2c885-b635-49af-913b-ee8c08d9a03b",
   "metadata": {},
   "outputs": [],
   "source": [
    "img_name = 'RashfordImage.jpg'"
   ]
  },
  {
   "cell_type": "markdown",
   "id": "816904c8-3b00-44c6-acbe-1dd0da8c19ae",
   "metadata": {},
   "source": [
    "# Downloading and saving the original image"
   ]
  },
  {
   "cell_type": "code",
   "execution_count": 19,
   "id": "d32bc006-bc6a-4336-9c71-1ea52a08052b",
   "metadata": {},
   "outputs": [],
   "source": [
    "img = Image.open(BytesIO(requests.get(img_url).content))\n",
    "img.save(f'original/{img_name}', format='JPEG')"
   ]
  },
  {
   "cell_type": "markdown",
   "id": "47a209f2-fe04-4d63-a05e-2fc5a232ef63",
   "metadata": {},
   "source": [
    "# Removing background"
   ]
  },
  {
   "cell_type": "code",
   "execution_count": 20,
   "id": "9560557b-4a50-43a5-b6ea-e5e4a5a957f3",
   "metadata": {},
   "outputs": [],
   "source": [
    "input_image = open(f'original/{img_name}', 'rb').read()\n",
    "subject = remove(input_image, alpha_matting=True) "
   ]
  },
  {
   "cell_type": "markdown",
   "id": "fe118a69-452d-457b-ba23-acf97dcb0cad",
   "metadata": {},
   "source": [
    "# Saving the masked image"
   ]
  },
  {
   "cell_type": "code",
   "execution_count": 21,
   "id": "d5b3a0d3-34f5-4613-a187-9b2f8cf88efd",
   "metadata": {},
   "outputs": [],
   "source": [
    "output_path = f'masked/{img_name}'\n",
    "with open(output_path, 'wb') as f:\n",
    "    f.write(subject)"
   ]
  },
  {
   "cell_type": "markdown",
   "id": "b7daf62b-9cd6-4496-bbce-e984f4786a4b",
   "metadata": {},
   "source": [
    "# Loading and resizing the background image to match the foreground"
   ]
  },
  {
   "cell_type": "code",
   "execution_count": 22,
   "id": "53009c90-ccdd-4580-842b-2798937a73f1",
   "metadata": {},
   "outputs": [],
   "source": [
    "background_img = Image.open(BytesIO(requests.get(background_url).content))\n",
    "background_img = background_img.resize((img.width, img.height))"
   ]
  },
  {
   "cell_type": "code",
   "execution_count": 23,
   "id": "1dcfba4d-952f-410a-b1e1-112c756df887",
   "metadata": {},
   "outputs": [],
   "source": [
    "foreground_image = Image.open(output_path) # Open the masked image as a PIL image"
   ]
  },
  {
   "cell_type": "markdown",
   "id": "0601c614-39ec-4556-8fe4-eb4f579ed971",
   "metadata": {},
   "source": [
    "# Post-processing"
   ]
  },
  {
   "cell_type": "markdown",
   "id": "2310016d-dbf7-45e7-8aec-61a4c2676b0a",
   "metadata": {},
   "source": [
    "## 1. Smoothing"
   ]
  },
  {
   "cell_type": "code",
   "execution_count": 24,
   "id": "85f996ef-58be-4028-b2a1-aa0df28c2fa7",
   "metadata": {},
   "outputs": [],
   "source": [
    "foreground_image = foreground_image.filter(ImageFilter.GaussianBlur(radius=1))  # Adjust radius as needed"
   ]
  },
  {
   "cell_type": "markdown",
   "id": "8a290b48-2011-4739-9a57-3f5d68c483da",
   "metadata": {},
   "source": [
    "## 2. Sharpening"
   ]
  },
  {
   "cell_type": "code",
   "execution_count": 25,
   "id": "5a6bfab9-f6db-4d0f-845e-d9845df00c44",
   "metadata": {},
   "outputs": [],
   "source": [
    "sharpened_image = foreground_image.filter(ImageFilter.SHARPEN)"
   ]
  },
  {
   "cell_type": "markdown",
   "id": "788a0a08-1227-45f6-bd4a-4b48e45637d1",
   "metadata": {},
   "source": [
    "## 3. Color Correction (Adjusting brightness and contrast)"
   ]
  },
  {
   "cell_type": "code",
   "execution_count": 26,
   "id": "89c892dc-2738-4aaa-8ec0-43fb52d4018f",
   "metadata": {},
   "outputs": [],
   "source": [
    "enhancer = ImageEnhance.Brightness(sharpened_image)\n",
    "brightened_image = enhancer.enhance(1.1)  # Adjust factor as needed\n",
    "enhancer = ImageEnhance.Contrast(brightened_image)\n",
    "final_foreground = enhancer.enhance(1.2)  # Adjust factor as needed"
   ]
  },
  {
   "cell_type": "markdown",
   "id": "d635b706-2b51-425e-94fb-59aa34bb78e1",
   "metadata": {},
   "source": [
    "# Pasting the refined foreground onto the background"
   ]
  },
  {
   "cell_type": "code",
   "execution_count": 27,
   "id": "f77d093f-4535-4267-a204-fea811c9ec6d",
   "metadata": {},
   "outputs": [],
   "source": [
    "background_img.paste(final_foreground, (0, 0), final_foreground)"
   ]
  },
  {
   "cell_type": "markdown",
   "id": "6434c725-6c49-469f-ba9f-01a62f7994d0",
   "metadata": {},
   "source": [
    "# Saving the final image with the new background"
   ]
  },
  {
   "cell_type": "code",
   "execution_count": 28,
   "id": "7f66598b-b1b4-457c-8b23-f58652f97732",
   "metadata": {},
   "outputs": [],
   "source": [
    "background_img.save('masked/final_image.jpg', format='JPEG')"
   ]
  }
 ],
 "metadata": {
  "kernelspec": {
   "display_name": "Python 3",
   "language": "python",
   "name": "python3"
  },
  "language_info": {
   "codemirror_mode": {
    "name": "ipython",
    "version": 3
   },
   "file_extension": ".py",
   "mimetype": "text/x-python",
   "name": "python",
   "nbconvert_exporter": "python",
   "pygments_lexer": "ipython3",
   "version": "3.12.1"
  }
 },
 "nbformat": 4,
 "nbformat_minor": 5
}
